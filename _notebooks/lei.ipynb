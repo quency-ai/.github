{
 "cells": [
  {
   "cell_type": "code",
   "execution_count": 15,
   "metadata": {},
   "outputs": [
    {
     "name": "stdout",
     "output_type": "stream",
     "text": [
      "Defaulting to user installation because normal site-packages is not writeable\n",
      "Requirement already satisfied: requests in /home/kit/.local/lib/python3.10/site-packages (2.28.1)\n",
      "Requirement already satisfied: pandas in /home/kit/.local/lib/python3.10/site-packages (1.5.2)\n",
      "Requirement already satisfied: numpy in /home/kit/.local/lib/python3.10/site-packages (1.24.0)\n",
      "Requirement already satisfied: scipy in /home/kit/.local/lib/python3.10/site-packages (1.9.3)\n",
      "Requirement already satisfied: plotly in /home/kit/.local/lib/python3.10/site-packages (5.11.0)\n",
      "Requirement already satisfied: chart_studio in /home/kit/.local/lib/python3.10/site-packages (1.1.0)\n",
      "Requirement already satisfied: urllib3<1.27,>=1.21.1 in /home/kit/.local/lib/python3.10/site-packages (from requests) (1.26.13)\n",
      "Requirement already satisfied: certifi>=2017.4.17 in /home/kit/.local/lib/python3.10/site-packages (from requests) (2022.12.7)\n",
      "Requirement already satisfied: charset-normalizer<3,>=2 in /home/kit/.local/lib/python3.10/site-packages (from requests) (2.1.1)\n",
      "Requirement already satisfied: idna<4,>=2.5 in /home/kit/.local/lib/python3.10/site-packages (from requests) (3.4)\n",
      "Requirement already satisfied: pytz>=2020.1 in /home/kit/.local/lib/python3.10/site-packages (from pandas) (2022.7)\n",
      "Requirement already satisfied: python-dateutil>=2.8.1 in /home/kit/.local/lib/python3.10/site-packages (from pandas) (2.8.2)\n",
      "Requirement already satisfied: tenacity>=6.2.0 in /home/kit/.local/lib/python3.10/site-packages (from plotly) (8.1.0)\n",
      "Requirement already satisfied: six in /usr/lib/python3/dist-packages (from chart_studio) (1.16.0)\n",
      "Requirement already satisfied: retrying>=1.3.3 in /home/kit/.local/lib/python3.10/site-packages (from chart_studio) (1.3.4)\n"
     ]
    }
   ],
   "source": [
    "RK = os.environ.get('RAPID_KEY')\n",
    "\n",
    "!{sys.executable} -m pip install requests pandas numpy scipy plotly chart_studio\n",
    "import requests"
   ]
  },
  {
   "cell_type": "code",
   "execution_count": 17,
   "metadata": {},
   "outputs": [
    {
     "name": "stdout",
     "output_type": "stream",
     "text": [
      "{'uuid': 'd442754a-9676-11ed-b059-06aa01f57570', 'state': 'complete', 'report': {'repos': [{'header': {'uuid': 'b94e63f2-9676-11ed-aa4a-5641c3ad0f84', 'start_time': '2023-01-17T14:53:19.642069Z', 'source_client': 'lei_worker', 'repo': 'https://github.com/novuhq/novu', 'library_version': '0.8.1', 'end_time': '2023-01-17T14:53:37.750763Z', 'duration': 18}, 'data': {'risk': 'medium', 'results': {'top10_contributors': [{'name': 'Dima Grossman', 'merges': 1035, 'last_contribution_date': '2023-01-17T16:07:48+02:00', 'email': 'dima@grossman.io', 'contributions': 2233}, {'name': 'Gosha', 'merges': 126, 'last_contribution_date': '2023-01-10T22:38:23+02:00', 'email': 'djabarov.george@gmail.com', 'contributions': 1053}, {'name': 'ainouzgali', 'merges': 398, 'last_contribution_date': '2023-01-13T11:10:19+02:00', 'email': 'ainouzgali@gmail.com', 'contributions': 894}, {'name': 'David Söderberg', 'merges': 84, 'last_contribution_date': '2023-01-16T09:24:26+01:00', 'email': 'granskog_@hotmail.com', 'contributions': 688}, {'name': 'Pablo Fernández', 'merges': 206, 'last_contribution_date': '2023-01-12T14:57:58+00:00', 'email': 'pablo@novu.co', 'contributions': 246}, {'name': 'David Söderberg', 'merges': 188, 'last_contribution_date': '2023-01-16T09:24:26+01:00', 'email': '2233092+davidsoderberg@users.noreply.github.com', 'contributions': 202}, {'name': 'George Djabarov', 'merges': 185, 'last_contribution_date': '2023-01-03T16:43:33+02:00', 'email': '39195835+djabarovgeorge@users.noreply.github.com', 'contributions': 186}, {'name': 'Biswajeet Das', 'merges': 31, 'last_contribution_date': '2023-01-15T18:15:06+02:00', 'email': 'biswajeetdas18@gmail.com', 'contributions': 176}, {'name': 'Paweł', 'merges': 37, 'last_contribution_date': '2023-01-17T13:17:50+02:00', 'email': 'pawel.tymczuk@gmail.com', 'contributions': 129}, {'name': 'Abhilipsa Sahoo', 'merges': 38, 'last_contribution_date': '2022-11-05T23:21:53+05:30', 'email': 'abhilipsasahoo03@gmail.com', 'contributions': 106}], 'sbom_risk': 'medium', 'recent_commit_size_in_percent_of_codebase': 1e-05, 'large_recent_commit_risk': 'low', 'functional_contributors_risk': 'low', 'functional_contributors': 24, 'functional_contributor_names': ['Paweł <pawel.tymczuk@gmail.com>', 'Roni Äikäs <roni.aikas@nordcloud.com>', 'Pablo Fernández <pablo@novu.co>', 'Tim Lange <tim.lange@titanhq.de>', 'Paweł Tymczuk <LetItRock@users.noreply.github.com>', 'David Söderberg <granskog_@hotmail.com>', 'Pawan Jain <jainpawan211199@gmail.com>', 'alexvcs <alexcurtisslep@gmail.com>', 'Abhilipsa Sahoo <abhilipsasahoo03@gmail.com>', 'Thi Van Le <vannnyle@gmail.com>', 'George Djabarov <39195835+djabarovgeorge@users.noreply.github.com>', 'Roni Äikäs <roni.aikas@gmail.com>', 'p-fernandez <pablo.fernandez.otero@gmail.com>', 'Biswajeet Das <biswajeetdas18@gmail.com>', 'AKSHITA GUPTA <57909583+akshitagupta15june@users.noreply.github.com>', 'Gosha <djabarov.george@gmail.com>', 'Josh Soref <2119212+jsoref@users.noreply.github.com>', 'Krishna Agarwal <dmkrishna.agarwal@gmail.com>', 'ninjadev101 <sanchzxel@gmail.com>', 'Chavda Bhavik <bhavikvchavda@gmail.com>', 'Tomer Barnea <com.barnea@gmail.com>', 'David Söderberg <2233092+davidsoderberg@users.noreply.github.com>', 'ainouzgali <ainouzgali@gmail.com>', 'Dima Grossman <dima@grossman.io>'], 'contributor_risk': 'low', 'contributor_count': 293, 'commit_currency_weeks': 0, 'commit_currency_risk': 'low'}, 'repo_size': '0', 'repo': 'https://github.com/novuhq/novu', 'project_types': {'node': ['/tmp/lei-1673967199-85-111nksj/novu/apps/api/package.json', '/tmp/lei-1673967199-85-111nksj/novu/apps/web/package.json', '/tmp/lei-1673967199-85-111nksj/novu/apps/webhook/package.json', '/tmp/lei-1673967199-85-111nksj/novu/apps/widget/package.json', '/tmp/lei-1673967199-85-111nksj/novu/apps/ws/package.json', '/tmp/lei-1673967199-85-111nksj/novu/docs/package.json', '/tmp/lei-1673967199-85-111nksj/novu/examples/angular-notification-center-example/package.json', '/tmp/lei-1673967199-85-111nksj/novu/examples/vue-notification-center-example/package.json', '/tmp/lei-1673967199-85-111nksj/novu/libs/dal/package.json', '/tmp/lei-1673967199-85-111nksj/novu/libs/embed/package.json', '/tmp/lei-1673967199-85-111nksj/novu/libs/shared/package.json', '/tmp/lei-1673967199-85-111nksj/novu/libs/testing/package.json', '/tmp/lei-1673967199-85-111nksj/novu/package.json', '/tmp/lei-1673967199-85-111nksj/novu/packages/application-generic/package.json', '/tmp/lei-1673967199-85-111nksj/novu/packages/cli/package.json', '/tmp/lei-1673967199-85-111nksj/novu/packages/client/package.json', '/tmp/lei-1673967199-85-111nksj/novu/packages/headless/package.json', '/tmp/lei-1673967199-85-111nksj/novu/packages/nest/package.json', '/tmp/lei-1673967199-85-111nksj/novu/packages/node/package.json', '/tmp/lei-1673967199-85-111nksj/novu/packages/notification-center-angular/package.json', '/tmp/lei-1673967199-85-111nksj/novu/packages/notification-center-angular/projects/notification-center-angular/package.json', '/tmp/lei-1673967199-85-111nksj/novu/packages/notification-center-vue/package.json', '/tmp/lei-1673967199-85-111nksj/novu/packages/notification-center/package.json', '/tmp/lei-1673967199-85-111nksj/novu/packages/stateless/package.json', '/tmp/lei-1673967199-85-111nksj/novu/providers/apns/package.json', '/tmp/lei-1673967199-85-111nksj/novu/providers/burst-sms/package.json', '/tmp/lei-1673967199-85-111nksj/novu/providers/clickatell/package.json', '/tmp/lei-1673967199-85-111nksj/novu/providers/discord/package.json', '/tmp/lei-1673967199-85-111nksj/novu/providers/emailjs/package.json', '/tmp/lei-1673967199-85-111nksj/novu/providers/expo/package.json', '/tmp/lei-1673967199-85-111nksj/novu/providers/fcm/package.json', '/tmp/lei-1673967199-85-111nksj/novu/providers/firetext/package.json', '/tmp/lei-1673967199-85-111nksj/novu/providers/gupshup/package.json', '/tmp/lei-1673967199-85-111nksj/novu/providers/infobip/package.json', '/tmp/lei-1673967199-85-111nksj/novu/providers/mailersend/package.json', '/tmp/lei-1673967199-85-111nksj/novu/providers/mailgun/package.json', '/tmp/lei-1673967199-85-111nksj/novu/providers/mailjet/package.json', '/tmp/lei-1673967199-85-111nksj/novu/providers/mandrill/package.json', '/tmp/lei-1673967199-85-111nksj/novu/providers/ms-teams/package.json', '/tmp/lei-1673967199-85-111nksj/novu/providers/netcore/package.json', '/tmp/lei-1673967199-85-111nksj/novu/providers/nexmo/package.json', '/tmp/lei-1673967199-85-111nksj/novu/providers/nodemailer/package.json', '/tmp/lei-1673967199-85-111nksj/novu/providers/outlook365/package.json', '/tmp/lei-1673967199-85-111nksj/novu/providers/plivo/package.json', '/tmp/lei-1673967199-85-111nksj/novu/providers/postmark/package.json', '/tmp/lei-1673967199-85-111nksj/novu/providers/sendgrid/package.json', '/tmp/lei-1673967199-85-111nksj/novu/providers/sendinblue/package.json', '/tmp/lei-1673967199-85-111nksj/novu/providers/ses/package.json', '/tmp/lei-1673967199-85-111nksj/novu/providers/slack/package.json', '/tmp/lei-1673967199-85-111nksj/novu/providers/sms77/package.json', '/tmp/lei-1673967199-85-111nksj/novu/providers/sns/package.json', '/tmp/lei-1673967199-85-111nksj/novu/providers/sparkpost/package.json', '/tmp/lei-1673967199-85-111nksj/novu/providers/telnyx/package.json', '/tmp/lei-1673967199-85-111nksj/novu/providers/termii/package.json', '/tmp/lei-1673967199-85-111nksj/novu/providers/twilio/package.json']}, 'git': {'total_commits_on_default_branch': 7847, 'last_commit_date': '2023-01-17T16:07:48+02:00', 'hash': 'd6a638251126de32bb1aa83b3f4f28e95537bd13', 'default_branch': 'refs/remotes/origin/next'}, 'files': {'total_file_count': 3277, 'has_readme': True, 'has_license': True, 'has_contributing': True, 'binary_files_count': 88, 'binary_files': ['apps/api/e2e/mocha.e2e.opts', 'apps/api/src/app/auth/services/auth.interface.ts', 'apps/api/src/app/organization/dtos/get-invite.dto.ts', 'apps/web/cypress/fixtures/test-logo.png', 'apps/web/public/favicon-gradient.png', 'apps/web/public/favicon.ico', 'apps/web/public/static/images/avatar.png', 'apps/web/public/static/images/logo-black-white.png', 'apps/web/public/static/images/logo-formerly-dark-bg.png', 'apps/web/public/static/images/logo-formerly-light-bg.png', 'apps/web/public/static/images/logo-light.png', 'apps/web/public/static/images/logo-white-formerly-dark-bg.png', 'apps/web/public/static/images/logo.png', 'apps/web/public/static/images/notifications/notification_01.png', 'apps/web/public/static/images/notifications/notification_02.png', 'apps/web/public/static/images/notifications/notification_03.png', 'apps/web/public/static/images/providers/dark/apns.png', 'apps/web/public/static/images/providers/dark/clickatell.png', 'apps/web/public/static/images/providers/dark/gupshup.png', 'apps/web/public/static/images/providers/dark/infobip.png', 'apps/web/public/static/images/providers/dark/mailjet.png', 'apps/web/public/static/images/providers/dark/netcore.png', 'apps/web/public/static/images/providers/dark/nexmo.png', 'apps/web/public/static/images/providers/dark/outlook365.png', 'apps/web/public/static/images/providers/dark/plivo.png', 'apps/web/public/static/images/providers/dark/postmark.png', 'apps/web/public/static/images/providers/dark/sendgrid.png', 'apps/web/public/static/images/providers/dark/sendinblue.png', 'apps/web/public/static/images/providers/dark/telnyx.png', 'apps/web/public/static/images/providers/dark/termii.png', 'apps/web/public/static/images/providers/dark/twilio.png', 'apps/web/public/static/images/providers/light/apns.png', 'apps/web/public/static/images/providers/light/clickatell.png', 'apps/web/public/static/images/providers/light/gupshup.png', 'apps/web/public/static/images/providers/light/infobip.png', 'apps/web/public/static/images/providers/light/mailjet.png', 'apps/web/public/static/images/providers/light/netcore.png', 'apps/web/public/static/images/providers/light/nexmo.png', 'apps/web/public/static/images/providers/light/outlook365.png', 'apps/web/public/static/images/providers/light/plivo.png', 'apps/web/public/static/images/providers/light/postmark.png', 'apps/web/public/static/images/providers/light/sendgrid.png', 'apps/web/public/static/images/providers/light/sendinblue.png', 'apps/web/public/static/images/providers/light/telnyx.png', 'apps/web/public/static/images/providers/light/termii.png', 'apps/web/public/static/images/providers/light/twilio.png', 'apps/web/public/static/images/signin_bg.png', 'apps/webhook/e2e/mocha.e2e.opts', 'apps/widget/public/favicon.ico', 'apps/widget/public/logo192.png', 'apps/widget/public/logo512.png', 'apps/widget/public/no-new-notifications.png', 'docs/static/.nojekyll', 'docs/static/fonts/brother-1816-book.woff2', 'docs/static/fonts/brother-1816-medium.woff2', 'docs/static/fonts/brother-1816-regular.woff2', 'docs/static/fonts/ibm-plex-mono-regular.woff2', 'docs/static/img/activity.png', 'docs/static/img/diagram.jpeg', 'docs/static/img/digest-flow.png', 'docs/static/img/favicon.ico', 'docs/static/img/monorepo-structure.jpeg', 'docs/static/img/notification-center.png', 'docs/static/img/notification-list-cog.png', 'docs/static/img/platform/filter/dark-add-filter-section.png', 'docs/static/img/platform/filter/dark-filter-section.png', 'docs/static/img/platform/filter/dark-webhook-rule-example.png', 'docs/static/img/platform/filter/light-add-filter-section.png', 'docs/static/img/platform/filter/light-filter-section.png', 'docs/static/img/platform/filter/light-webhook-rule-example.png', 'docs/static/img/quickstart/connect-image.png', 'docs/static/img/scheduled-delay.png', 'docs/static/img/social-preview.jpg', 'docs/static/img/tutorial/docsVersionDropdown.png', 'docs/static/img/tutorial/localeDropdown.png', 'docs/static/img/user-preference.png', 'docs/static/img/webhook-url.png', 'examples/angular-notification-center-example/src/app/app.component.sass', 'examples/angular-notification-center-example/src/assets/.gitkeep', 'examples/angular-notification-center-example/src/favicon.ico', 'examples/vue-notification-center-example/public/favicon.ico', 'libs/dal/src/repositories/subscription-preference/index.ts', 'libs/embed/test/embed.test.ts', 'packages/nest/src/providers/novu.connection.provider.ts', 'packages/node/src/types/example.d.ts', 'packages/notification-center/src/images/no-new-notifications.png', 'packages/notification-center/src/images/no-settings.png', 'packages/stateless/src/types/example.d.ts']}, 'config': {'sbom_risk_level': 'medium', 'medium_large_commit_level': 0.2, 'medium_functional_contributors_level': 5, 'medium_currency_level': 26, 'medium_contributor_level': 5, 'high_large_commit_level': 0.3, 'high_functional_contributors_level': 3, 'high_currency_level': 52, 'high_contributor_level': 3, 'critical_large_commit_level': 0.4, 'critical_functional_contributors_level': 2, 'critical_currency_level': 104, 'critical_contributor_level': 2, 'base_temp_dir': '/tmp'}}}]}, 'metadata': {'times': {'start_time': '2023-01-17T14:54:22.978280Z', 'end_time': '2023-01-17T14:54:23.028955Z', 'duration': 0}}}\n"
     ]
    }
   ],
   "source": [
    "payload = '''{\"urls\": [\"https://github.com/novuhq/novu\"]}'''\n",
    "headers = {'X-RapidApi-Key': RK, 'X-RapidApi-Host': 'lowendinsight2.p.rapidapi.com', 'Content-Type': 'application/json'}\n",
    "r = requests.post('https://lowendinsight2.p.rapidapi.com/analyze/', data=payload, headers=headers)\n",
    "\n",
    "import json\n",
    "import time\n",
    "\n",
    "j = json.loads(r.content)\n",
    "print(j)\n",
    "while j['state'] == \"incomplete\":\n",
    "  r = requests.get(\"https://lowendinsight2.p.rapidapi.com/analyze/{}\".format(j[\"uuid\"]))\n",
    "  print(r)\n",
    "  j = json.loads(r.content)\n",
    "  time.sleep(2)\n",
    "  print(\"not complete yet, sleeping...\")\n",
    "    "
   ]
  },
  {
   "cell_type": "code",
   "execution_count": 46,
   "metadata": {},
   "outputs": [
    {
     "data": {
      "text/html": [
       "        <script type=\"text/javascript\">\n",
       "        window.PlotlyConfig = {MathJaxConfig: 'local'};\n",
       "        if (window.MathJax && window.MathJax.Hub && window.MathJax.Hub.Config) {window.MathJax.Hub.Config({SVG: {font: \"STIX-Web\"}});}\n",
       "        if (typeof require !== 'undefined') {\n",
       "        require.undef(\"plotly\");\n",
       "        requirejs.config({\n",
       "            paths: {\n",
       "                'plotly': ['https://cdn.plot.ly/plotly-2.16.1.min']\n",
       "            }\n",
       "        });\n",
       "        require(['plotly'], function(Plotly) {\n",
       "            window._Plotly = Plotly;\n",
       "        });\n",
       "        }\n",
       "        </script>\n",
       "        "
      ]
     },
     "metadata": {},
     "output_type": "display_data"
    },
    {
     "ename": "KeyError",
     "evalue": "\"['email'] not found in axis\"",
     "output_type": "error",
     "traceback": [
      "\u001b[0;31m---------------------------------------------------------------------------\u001b[0m",
      "\u001b[0;31mKeyError\u001b[0m                                  Traceback (most recent call last)",
      "Cell \u001b[0;32mIn[46], line 19\u001b[0m\n\u001b[1;32m     16\u001b[0m \u001b[39mimport\u001b[39;00m \u001b[39mplotly\u001b[39;00m\u001b[39m.\u001b[39;00m\u001b[39mfigure_factory\u001b[39;00m \u001b[39mas\u001b[39;00m \u001b[39mff\u001b[39;00m\n\u001b[1;32m     18\u001b[0m df \u001b[39m=\u001b[39m pd\u001b[39m.\u001b[39mDataFrame\u001b[39m.\u001b[39mfrom_dict(top10)\n\u001b[0;32m---> 19\u001b[0m df \u001b[39m=\u001b[39m df\u001b[39m.\u001b[39;49mdrop(\u001b[39m'\u001b[39;49m\u001b[39memail\u001b[39;49m\u001b[39m'\u001b[39;49m)\n\u001b[1;32m     20\u001b[0m table \u001b[39m=\u001b[39m ff\u001b[39m.\u001b[39mcreate_table(df)\n\u001b[1;32m     22\u001b[0m \u001b[39m#plotly.offline.plot(table, filename='lei-table1.png')\u001b[39;00m\n",
      "File \u001b[0;32m~/.local/lib/python3.10/site-packages/pandas/util/_decorators.py:331\u001b[0m, in \u001b[0;36mdeprecate_nonkeyword_arguments.<locals>.decorate.<locals>.wrapper\u001b[0;34m(*args, **kwargs)\u001b[0m\n\u001b[1;32m    325\u001b[0m \u001b[39mif\u001b[39;00m \u001b[39mlen\u001b[39m(args) \u001b[39m>\u001b[39m num_allow_args:\n\u001b[1;32m    326\u001b[0m     warnings\u001b[39m.\u001b[39mwarn(\n\u001b[1;32m    327\u001b[0m         msg\u001b[39m.\u001b[39mformat(arguments\u001b[39m=\u001b[39m_format_argument_list(allow_args)),\n\u001b[1;32m    328\u001b[0m         \u001b[39mFutureWarning\u001b[39;00m,\n\u001b[1;32m    329\u001b[0m         stacklevel\u001b[39m=\u001b[39mfind_stack_level(),\n\u001b[1;32m    330\u001b[0m     )\n\u001b[0;32m--> 331\u001b[0m \u001b[39mreturn\u001b[39;00m func(\u001b[39m*\u001b[39;49margs, \u001b[39m*\u001b[39;49m\u001b[39m*\u001b[39;49mkwargs)\n",
      "File \u001b[0;32m~/.local/lib/python3.10/site-packages/pandas/core/frame.py:5396\u001b[0m, in \u001b[0;36mDataFrame.drop\u001b[0;34m(self, labels, axis, index, columns, level, inplace, errors)\u001b[0m\n\u001b[1;32m   5248\u001b[0m \u001b[39m@deprecate_nonkeyword_arguments\u001b[39m(version\u001b[39m=\u001b[39m\u001b[39mNone\u001b[39;00m, allowed_args\u001b[39m=\u001b[39m[\u001b[39m\"\u001b[39m\u001b[39mself\u001b[39m\u001b[39m\"\u001b[39m, \u001b[39m\"\u001b[39m\u001b[39mlabels\u001b[39m\u001b[39m\"\u001b[39m])\n\u001b[1;32m   5249\u001b[0m \u001b[39mdef\u001b[39;00m \u001b[39mdrop\u001b[39m(  \u001b[39m# type: ignore[override]\u001b[39;00m\n\u001b[1;32m   5250\u001b[0m     \u001b[39mself\u001b[39m,\n\u001b[0;32m   (...)\u001b[0m\n\u001b[1;32m   5257\u001b[0m     errors: IgnoreRaise \u001b[39m=\u001b[39m \u001b[39m\"\u001b[39m\u001b[39mraise\u001b[39m\u001b[39m\"\u001b[39m,\n\u001b[1;32m   5258\u001b[0m ) \u001b[39m-\u001b[39m\u001b[39m>\u001b[39m DataFrame \u001b[39m|\u001b[39m \u001b[39mNone\u001b[39;00m:\n\u001b[1;32m   5259\u001b[0m     \u001b[39m\"\"\"\u001b[39;00m\n\u001b[1;32m   5260\u001b[0m \u001b[39m    Drop specified labels from rows or columns.\u001b[39;00m\n\u001b[1;32m   5261\u001b[0m \n\u001b[0;32m   (...)\u001b[0m\n\u001b[1;32m   5394\u001b[0m \u001b[39m            weight  1.0     0.8\u001b[39;00m\n\u001b[1;32m   5395\u001b[0m \u001b[39m    \"\"\"\u001b[39;00m\n\u001b[0;32m-> 5396\u001b[0m     \u001b[39mreturn\u001b[39;00m \u001b[39msuper\u001b[39;49m()\u001b[39m.\u001b[39;49mdrop(\n\u001b[1;32m   5397\u001b[0m         labels\u001b[39m=\u001b[39;49mlabels,\n\u001b[1;32m   5398\u001b[0m         axis\u001b[39m=\u001b[39;49maxis,\n\u001b[1;32m   5399\u001b[0m         index\u001b[39m=\u001b[39;49mindex,\n\u001b[1;32m   5400\u001b[0m         columns\u001b[39m=\u001b[39;49mcolumns,\n\u001b[1;32m   5401\u001b[0m         level\u001b[39m=\u001b[39;49mlevel,\n\u001b[1;32m   5402\u001b[0m         inplace\u001b[39m=\u001b[39;49minplace,\n\u001b[1;32m   5403\u001b[0m         errors\u001b[39m=\u001b[39;49merrors,\n\u001b[1;32m   5404\u001b[0m     )\n",
      "File \u001b[0;32m~/.local/lib/python3.10/site-packages/pandas/util/_decorators.py:331\u001b[0m, in \u001b[0;36mdeprecate_nonkeyword_arguments.<locals>.decorate.<locals>.wrapper\u001b[0;34m(*args, **kwargs)\u001b[0m\n\u001b[1;32m    325\u001b[0m \u001b[39mif\u001b[39;00m \u001b[39mlen\u001b[39m(args) \u001b[39m>\u001b[39m num_allow_args:\n\u001b[1;32m    326\u001b[0m     warnings\u001b[39m.\u001b[39mwarn(\n\u001b[1;32m    327\u001b[0m         msg\u001b[39m.\u001b[39mformat(arguments\u001b[39m=\u001b[39m_format_argument_list(allow_args)),\n\u001b[1;32m    328\u001b[0m         \u001b[39mFutureWarning\u001b[39;00m,\n\u001b[1;32m    329\u001b[0m         stacklevel\u001b[39m=\u001b[39mfind_stack_level(),\n\u001b[1;32m    330\u001b[0m     )\n\u001b[0;32m--> 331\u001b[0m \u001b[39mreturn\u001b[39;00m func(\u001b[39m*\u001b[39;49margs, \u001b[39m*\u001b[39;49m\u001b[39m*\u001b[39;49mkwargs)\n",
      "File \u001b[0;32m~/.local/lib/python3.10/site-packages/pandas/core/generic.py:4505\u001b[0m, in \u001b[0;36mNDFrame.drop\u001b[0;34m(self, labels, axis, index, columns, level, inplace, errors)\u001b[0m\n\u001b[1;32m   4503\u001b[0m \u001b[39mfor\u001b[39;00m axis, labels \u001b[39min\u001b[39;00m axes\u001b[39m.\u001b[39mitems():\n\u001b[1;32m   4504\u001b[0m     \u001b[39mif\u001b[39;00m labels \u001b[39mis\u001b[39;00m \u001b[39mnot\u001b[39;00m \u001b[39mNone\u001b[39;00m:\n\u001b[0;32m-> 4505\u001b[0m         obj \u001b[39m=\u001b[39m obj\u001b[39m.\u001b[39;49m_drop_axis(labels, axis, level\u001b[39m=\u001b[39;49mlevel, errors\u001b[39m=\u001b[39;49merrors)\n\u001b[1;32m   4507\u001b[0m \u001b[39mif\u001b[39;00m inplace:\n\u001b[1;32m   4508\u001b[0m     \u001b[39mself\u001b[39m\u001b[39m.\u001b[39m_update_inplace(obj)\n",
      "File \u001b[0;32m~/.local/lib/python3.10/site-packages/pandas/core/generic.py:4546\u001b[0m, in \u001b[0;36mNDFrame._drop_axis\u001b[0;34m(self, labels, axis, level, errors, only_slice)\u001b[0m\n\u001b[1;32m   4544\u001b[0m         new_axis \u001b[39m=\u001b[39m axis\u001b[39m.\u001b[39mdrop(labels, level\u001b[39m=\u001b[39mlevel, errors\u001b[39m=\u001b[39merrors)\n\u001b[1;32m   4545\u001b[0m     \u001b[39melse\u001b[39;00m:\n\u001b[0;32m-> 4546\u001b[0m         new_axis \u001b[39m=\u001b[39m axis\u001b[39m.\u001b[39;49mdrop(labels, errors\u001b[39m=\u001b[39;49merrors)\n\u001b[1;32m   4547\u001b[0m     indexer \u001b[39m=\u001b[39m axis\u001b[39m.\u001b[39mget_indexer(new_axis)\n\u001b[1;32m   4549\u001b[0m \u001b[39m# Case for non-unique axis\u001b[39;00m\n\u001b[1;32m   4550\u001b[0m \u001b[39melse\u001b[39;00m:\n",
      "File \u001b[0;32m~/.local/lib/python3.10/site-packages/pandas/core/indexes/base.py:6977\u001b[0m, in \u001b[0;36mIndex.drop\u001b[0;34m(self, labels, errors)\u001b[0m\n\u001b[1;32m   6975\u001b[0m \u001b[39mif\u001b[39;00m mask\u001b[39m.\u001b[39many():\n\u001b[1;32m   6976\u001b[0m     \u001b[39mif\u001b[39;00m errors \u001b[39m!=\u001b[39m \u001b[39m\"\u001b[39m\u001b[39mignore\u001b[39m\u001b[39m\"\u001b[39m:\n\u001b[0;32m-> 6977\u001b[0m         \u001b[39mraise\u001b[39;00m \u001b[39mKeyError\u001b[39;00m(\u001b[39mf\u001b[39m\u001b[39m\"\u001b[39m\u001b[39m{\u001b[39;00m\u001b[39mlist\u001b[39m(labels[mask])\u001b[39m}\u001b[39;00m\u001b[39m not found in axis\u001b[39m\u001b[39m\"\u001b[39m)\n\u001b[1;32m   6978\u001b[0m     indexer \u001b[39m=\u001b[39m indexer[\u001b[39m~\u001b[39mmask]\n\u001b[1;32m   6979\u001b[0m \u001b[39mreturn\u001b[39;00m \u001b[39mself\u001b[39m\u001b[39m.\u001b[39mdelete(indexer)\n",
      "\u001b[0;31mKeyError\u001b[0m: \"['email'] not found in axis\""
     ]
    }
   ],
   "source": [
    "\n",
    "\n",
    "results = j[\"report\"][\"repos\"][0][\"data\"][\"results\"]\n",
    "#print(results)\n",
    "total_commits = j[\"report\"][\"repos\"][0][\"data\"][\"git\"][\"total_commits_on_default_branch\"]\n",
    "top10 = results[\"top10_contributors\"]\n",
    "#print(top10)\n",
    "\n",
    "for c in top10:\n",
    "    #print(\"{} [{}]: {} {}\".format(c[\"name\"], c[\"email\"], c[\"contributions\"], round((c[\"contributions\"]/total_commits)*100,2)))\n",
    "    c.update({'contribution_percentage': round((c[\"contributions\"]/total_commits)*100,2)})\n",
    "\n",
    "import pandas as pd\n",
    "import numpy as np\n",
    "import scipy as sp\n",
    "import plotly\n",
    "plotly.offline.init_notebook_mode(connected=True)\n",
    "import plotly.figure_factory as ff\n",
    "\n",
    "df = pd.DataFrame.from_dict(top10)\n",
    "df = df.drop('email', axis=1)\n",
    "table = ff.create_table(df)\n",
    "\n",
    "#plotly.offline.plot(table, filename='lei-table1.png')\n",
    "table.update_layout(width=1024)\n",
    "table.show()"
   ]
  },
  {
   "cell_type": "code",
   "execution_count": null,
   "metadata": {},
   "outputs": [
    {
     "data": {
      "application/vnd.plotly.v1+json": {
       "config": {
        "plotlyServerURL": "https://plot.ly"
       },
       "data": [
        {
         "alignmentgroup": "True",
         "hovertemplate": "x=%{x}<br>y=%{y}<extra></extra>",
         "legendgroup": "",
         "marker": {
          "color": "#636efa",
          "pattern": {
           "shape": ""
          }
         },
         "name": "",
         "offsetgroup": "",
         "orientation": "v",
         "showlegend": false,
         "textposition": "auto",
         "type": "bar",
         "x": [
          "Dima Grossman",
          "Gosha",
          "ainouzgali",
          "David Söderberg",
          "Pablo Fernández",
          "David Söderberg",
          "George Djabarov",
          "Biswajeet Das",
          "Paweł",
          "Abhilipsa Sahoo"
         ],
         "xaxis": "x",
         "y": [
          2233,
          1053,
          894,
          688,
          246,
          202,
          186,
          176,
          129,
          106
         ],
         "yaxis": "y"
        }
       ],
       "layout": {
        "barmode": "relative",
        "legend": {
         "tracegroupgap": 0
        },
        "margin": {
         "t": 60
        },
        "template": {
         "data": {
          "bar": [
           {
            "error_x": {
             "color": "#2a3f5f"
            },
            "error_y": {
             "color": "#2a3f5f"
            },
            "marker": {
             "line": {
              "color": "#E5ECF6",
              "width": 0.5
             },
             "pattern": {
              "fillmode": "overlay",
              "size": 10,
              "solidity": 0.2
             }
            },
            "type": "bar"
           }
          ],
          "barpolar": [
           {
            "marker": {
             "line": {
              "color": "#E5ECF6",
              "width": 0.5
             },
             "pattern": {
              "fillmode": "overlay",
              "size": 10,
              "solidity": 0.2
             }
            },
            "type": "barpolar"
           }
          ],
          "carpet": [
           {
            "aaxis": {
             "endlinecolor": "#2a3f5f",
             "gridcolor": "white",
             "linecolor": "white",
             "minorgridcolor": "white",
             "startlinecolor": "#2a3f5f"
            },
            "baxis": {
             "endlinecolor": "#2a3f5f",
             "gridcolor": "white",
             "linecolor": "white",
             "minorgridcolor": "white",
             "startlinecolor": "#2a3f5f"
            },
            "type": "carpet"
           }
          ],
          "choropleth": [
           {
            "colorbar": {
             "outlinewidth": 0,
             "ticks": ""
            },
            "type": "choropleth"
           }
          ],
          "contour": [
           {
            "colorbar": {
             "outlinewidth": 0,
             "ticks": ""
            },
            "colorscale": [
             [
              0,
              "#0d0887"
             ],
             [
              0.1111111111111111,
              "#46039f"
             ],
             [
              0.2222222222222222,
              "#7201a8"
             ],
             [
              0.3333333333333333,
              "#9c179e"
             ],
             [
              0.4444444444444444,
              "#bd3786"
             ],
             [
              0.5555555555555556,
              "#d8576b"
             ],
             [
              0.6666666666666666,
              "#ed7953"
             ],
             [
              0.7777777777777778,
              "#fb9f3a"
             ],
             [
              0.8888888888888888,
              "#fdca26"
             ],
             [
              1,
              "#f0f921"
             ]
            ],
            "type": "contour"
           }
          ],
          "contourcarpet": [
           {
            "colorbar": {
             "outlinewidth": 0,
             "ticks": ""
            },
            "type": "contourcarpet"
           }
          ],
          "heatmap": [
           {
            "colorbar": {
             "outlinewidth": 0,
             "ticks": ""
            },
            "colorscale": [
             [
              0,
              "#0d0887"
             ],
             [
              0.1111111111111111,
              "#46039f"
             ],
             [
              0.2222222222222222,
              "#7201a8"
             ],
             [
              0.3333333333333333,
              "#9c179e"
             ],
             [
              0.4444444444444444,
              "#bd3786"
             ],
             [
              0.5555555555555556,
              "#d8576b"
             ],
             [
              0.6666666666666666,
              "#ed7953"
             ],
             [
              0.7777777777777778,
              "#fb9f3a"
             ],
             [
              0.8888888888888888,
              "#fdca26"
             ],
             [
              1,
              "#f0f921"
             ]
            ],
            "type": "heatmap"
           }
          ],
          "heatmapgl": [
           {
            "colorbar": {
             "outlinewidth": 0,
             "ticks": ""
            },
            "colorscale": [
             [
              0,
              "#0d0887"
             ],
             [
              0.1111111111111111,
              "#46039f"
             ],
             [
              0.2222222222222222,
              "#7201a8"
             ],
             [
              0.3333333333333333,
              "#9c179e"
             ],
             [
              0.4444444444444444,
              "#bd3786"
             ],
             [
              0.5555555555555556,
              "#d8576b"
             ],
             [
              0.6666666666666666,
              "#ed7953"
             ],
             [
              0.7777777777777778,
              "#fb9f3a"
             ],
             [
              0.8888888888888888,
              "#fdca26"
             ],
             [
              1,
              "#f0f921"
             ]
            ],
            "type": "heatmapgl"
           }
          ],
          "histogram": [
           {
            "marker": {
             "pattern": {
              "fillmode": "overlay",
              "size": 10,
              "solidity": 0.2
             }
            },
            "type": "histogram"
           }
          ],
          "histogram2d": [
           {
            "colorbar": {
             "outlinewidth": 0,
             "ticks": ""
            },
            "colorscale": [
             [
              0,
              "#0d0887"
             ],
             [
              0.1111111111111111,
              "#46039f"
             ],
             [
              0.2222222222222222,
              "#7201a8"
             ],
             [
              0.3333333333333333,
              "#9c179e"
             ],
             [
              0.4444444444444444,
              "#bd3786"
             ],
             [
              0.5555555555555556,
              "#d8576b"
             ],
             [
              0.6666666666666666,
              "#ed7953"
             ],
             [
              0.7777777777777778,
              "#fb9f3a"
             ],
             [
              0.8888888888888888,
              "#fdca26"
             ],
             [
              1,
              "#f0f921"
             ]
            ],
            "type": "histogram2d"
           }
          ],
          "histogram2dcontour": [
           {
            "colorbar": {
             "outlinewidth": 0,
             "ticks": ""
            },
            "colorscale": [
             [
              0,
              "#0d0887"
             ],
             [
              0.1111111111111111,
              "#46039f"
             ],
             [
              0.2222222222222222,
              "#7201a8"
             ],
             [
              0.3333333333333333,
              "#9c179e"
             ],
             [
              0.4444444444444444,
              "#bd3786"
             ],
             [
              0.5555555555555556,
              "#d8576b"
             ],
             [
              0.6666666666666666,
              "#ed7953"
             ],
             [
              0.7777777777777778,
              "#fb9f3a"
             ],
             [
              0.8888888888888888,
              "#fdca26"
             ],
             [
              1,
              "#f0f921"
             ]
            ],
            "type": "histogram2dcontour"
           }
          ],
          "mesh3d": [
           {
            "colorbar": {
             "outlinewidth": 0,
             "ticks": ""
            },
            "type": "mesh3d"
           }
          ],
          "parcoords": [
           {
            "line": {
             "colorbar": {
              "outlinewidth": 0,
              "ticks": ""
             }
            },
            "type": "parcoords"
           }
          ],
          "pie": [
           {
            "automargin": true,
            "type": "pie"
           }
          ],
          "scatter": [
           {
            "fillpattern": {
             "fillmode": "overlay",
             "size": 10,
             "solidity": 0.2
            },
            "type": "scatter"
           }
          ],
          "scatter3d": [
           {
            "line": {
             "colorbar": {
              "outlinewidth": 0,
              "ticks": ""
             }
            },
            "marker": {
             "colorbar": {
              "outlinewidth": 0,
              "ticks": ""
             }
            },
            "type": "scatter3d"
           }
          ],
          "scattercarpet": [
           {
            "marker": {
             "colorbar": {
              "outlinewidth": 0,
              "ticks": ""
             }
            },
            "type": "scattercarpet"
           }
          ],
          "scattergeo": [
           {
            "marker": {
             "colorbar": {
              "outlinewidth": 0,
              "ticks": ""
             }
            },
            "type": "scattergeo"
           }
          ],
          "scattergl": [
           {
            "marker": {
             "colorbar": {
              "outlinewidth": 0,
              "ticks": ""
             }
            },
            "type": "scattergl"
           }
          ],
          "scattermapbox": [
           {
            "marker": {
             "colorbar": {
              "outlinewidth": 0,
              "ticks": ""
             }
            },
            "type": "scattermapbox"
           }
          ],
          "scatterpolar": [
           {
            "marker": {
             "colorbar": {
              "outlinewidth": 0,
              "ticks": ""
             }
            },
            "type": "scatterpolar"
           }
          ],
          "scatterpolargl": [
           {
            "marker": {
             "colorbar": {
              "outlinewidth": 0,
              "ticks": ""
             }
            },
            "type": "scatterpolargl"
           }
          ],
          "scatterternary": [
           {
            "marker": {
             "colorbar": {
              "outlinewidth": 0,
              "ticks": ""
             }
            },
            "type": "scatterternary"
           }
          ],
          "surface": [
           {
            "colorbar": {
             "outlinewidth": 0,
             "ticks": ""
            },
            "colorscale": [
             [
              0,
              "#0d0887"
             ],
             [
              0.1111111111111111,
              "#46039f"
             ],
             [
              0.2222222222222222,
              "#7201a8"
             ],
             [
              0.3333333333333333,
              "#9c179e"
             ],
             [
              0.4444444444444444,
              "#bd3786"
             ],
             [
              0.5555555555555556,
              "#d8576b"
             ],
             [
              0.6666666666666666,
              "#ed7953"
             ],
             [
              0.7777777777777778,
              "#fb9f3a"
             ],
             [
              0.8888888888888888,
              "#fdca26"
             ],
             [
              1,
              "#f0f921"
             ]
            ],
            "type": "surface"
           }
          ],
          "table": [
           {
            "cells": {
             "fill": {
              "color": "#EBF0F8"
             },
             "line": {
              "color": "white"
             }
            },
            "header": {
             "fill": {
              "color": "#C8D4E3"
             },
             "line": {
              "color": "white"
             }
            },
            "type": "table"
           }
          ]
         },
         "layout": {
          "annotationdefaults": {
           "arrowcolor": "#2a3f5f",
           "arrowhead": 0,
           "arrowwidth": 1
          },
          "autotypenumbers": "strict",
          "coloraxis": {
           "colorbar": {
            "outlinewidth": 0,
            "ticks": ""
           }
          },
          "colorscale": {
           "diverging": [
            [
             0,
             "#8e0152"
            ],
            [
             0.1,
             "#c51b7d"
            ],
            [
             0.2,
             "#de77ae"
            ],
            [
             0.3,
             "#f1b6da"
            ],
            [
             0.4,
             "#fde0ef"
            ],
            [
             0.5,
             "#f7f7f7"
            ],
            [
             0.6,
             "#e6f5d0"
            ],
            [
             0.7,
             "#b8e186"
            ],
            [
             0.8,
             "#7fbc41"
            ],
            [
             0.9,
             "#4d9221"
            ],
            [
             1,
             "#276419"
            ]
           ],
           "sequential": [
            [
             0,
             "#0d0887"
            ],
            [
             0.1111111111111111,
             "#46039f"
            ],
            [
             0.2222222222222222,
             "#7201a8"
            ],
            [
             0.3333333333333333,
             "#9c179e"
            ],
            [
             0.4444444444444444,
             "#bd3786"
            ],
            [
             0.5555555555555556,
             "#d8576b"
            ],
            [
             0.6666666666666666,
             "#ed7953"
            ],
            [
             0.7777777777777778,
             "#fb9f3a"
            ],
            [
             0.8888888888888888,
             "#fdca26"
            ],
            [
             1,
             "#f0f921"
            ]
           ],
           "sequentialminus": [
            [
             0,
             "#0d0887"
            ],
            [
             0.1111111111111111,
             "#46039f"
            ],
            [
             0.2222222222222222,
             "#7201a8"
            ],
            [
             0.3333333333333333,
             "#9c179e"
            ],
            [
             0.4444444444444444,
             "#bd3786"
            ],
            [
             0.5555555555555556,
             "#d8576b"
            ],
            [
             0.6666666666666666,
             "#ed7953"
            ],
            [
             0.7777777777777778,
             "#fb9f3a"
            ],
            [
             0.8888888888888888,
             "#fdca26"
            ],
            [
             1,
             "#f0f921"
            ]
           ]
          },
          "colorway": [
           "#636efa",
           "#EF553B",
           "#00cc96",
           "#ab63fa",
           "#FFA15A",
           "#19d3f3",
           "#FF6692",
           "#B6E880",
           "#FF97FF",
           "#FECB52"
          ],
          "font": {
           "color": "#2a3f5f"
          },
          "geo": {
           "bgcolor": "white",
           "lakecolor": "white",
           "landcolor": "#E5ECF6",
           "showlakes": true,
           "showland": true,
           "subunitcolor": "white"
          },
          "hoverlabel": {
           "align": "left"
          },
          "hovermode": "closest",
          "mapbox": {
           "style": "light"
          },
          "paper_bgcolor": "white",
          "plot_bgcolor": "#E5ECF6",
          "polar": {
           "angularaxis": {
            "gridcolor": "white",
            "linecolor": "white",
            "ticks": ""
           },
           "bgcolor": "#E5ECF6",
           "radialaxis": {
            "gridcolor": "white",
            "linecolor": "white",
            "ticks": ""
           }
          },
          "scene": {
           "xaxis": {
            "backgroundcolor": "#E5ECF6",
            "gridcolor": "white",
            "gridwidth": 2,
            "linecolor": "white",
            "showbackground": true,
            "ticks": "",
            "zerolinecolor": "white"
           },
           "yaxis": {
            "backgroundcolor": "#E5ECF6",
            "gridcolor": "white",
            "gridwidth": 2,
            "linecolor": "white",
            "showbackground": true,
            "ticks": "",
            "zerolinecolor": "white"
           },
           "zaxis": {
            "backgroundcolor": "#E5ECF6",
            "gridcolor": "white",
            "gridwidth": 2,
            "linecolor": "white",
            "showbackground": true,
            "ticks": "",
            "zerolinecolor": "white"
           }
          },
          "shapedefaults": {
           "line": {
            "color": "#2a3f5f"
           }
          },
          "ternary": {
           "aaxis": {
            "gridcolor": "white",
            "linecolor": "white",
            "ticks": ""
           },
           "baxis": {
            "gridcolor": "white",
            "linecolor": "white",
            "ticks": ""
           },
           "bgcolor": "#E5ECF6",
           "caxis": {
            "gridcolor": "white",
            "linecolor": "white",
            "ticks": ""
           }
          },
          "title": {
           "x": 0.05
          },
          "xaxis": {
           "automargin": true,
           "gridcolor": "white",
           "linecolor": "white",
           "ticks": "",
           "title": {
            "standoff": 15
           },
           "zerolinecolor": "white",
           "zerolinewidth": 2
          },
          "yaxis": {
           "automargin": true,
           "gridcolor": "white",
           "linecolor": "white",
           "ticks": "",
           "title": {
            "standoff": 15
           },
           "zerolinecolor": "white",
           "zerolinewidth": 2
          }
         }
        },
        "xaxis": {
         "anchor": "y",
         "domain": [
          0,
          1
         ],
         "title": {
          "text": "x"
         }
        },
        "yaxis": {
         "anchor": "x",
         "domain": [
          0,
          1
         ],
         "title": {
          "text": "y"
         }
        }
       }
      },
      "text/html": [
       "<div>                            <div id=\"60943d16-2bdb-4412-b997-e64507008161\" class=\"plotly-graph-div\" style=\"height:525px; width:100%;\"></div>            <script type=\"text/javascript\">                require([\"plotly\"], function(Plotly) {                    window.PLOTLYENV=window.PLOTLYENV || {};                                    if (document.getElementById(\"60943d16-2bdb-4412-b997-e64507008161\")) {                    Plotly.newPlot(                        \"60943d16-2bdb-4412-b997-e64507008161\",                        [{\"alignmentgroup\":\"True\",\"hovertemplate\":\"x=%{x}<br>y=%{y}<extra></extra>\",\"legendgroup\":\"\",\"marker\":{\"color\":\"#636efa\",\"pattern\":{\"shape\":\"\"}},\"name\":\"\",\"offsetgroup\":\"\",\"orientation\":\"v\",\"showlegend\":false,\"textposition\":\"auto\",\"x\":[\"Dima Grossman\",\"Gosha\",\"ainouzgali\",\"David S\\u00f6derberg\",\"Pablo Fern\\u00e1ndez\",\"David S\\u00f6derberg\",\"George Djabarov\",\"Biswajeet Das\",\"Pawe\\u0142\",\"Abhilipsa Sahoo\"],\"xaxis\":\"x\",\"y\":[2233,1053,894,688,246,202,186,176,129,106],\"yaxis\":\"y\",\"type\":\"bar\"}],                        {\"template\":{\"data\":{\"histogram2dcontour\":[{\"type\":\"histogram2dcontour\",\"colorbar\":{\"outlinewidth\":0,\"ticks\":\"\"},\"colorscale\":[[0.0,\"#0d0887\"],[0.1111111111111111,\"#46039f\"],[0.2222222222222222,\"#7201a8\"],[0.3333333333333333,\"#9c179e\"],[0.4444444444444444,\"#bd3786\"],[0.5555555555555556,\"#d8576b\"],[0.6666666666666666,\"#ed7953\"],[0.7777777777777778,\"#fb9f3a\"],[0.8888888888888888,\"#fdca26\"],[1.0,\"#f0f921\"]]}],\"choropleth\":[{\"type\":\"choropleth\",\"colorbar\":{\"outlinewidth\":0,\"ticks\":\"\"}}],\"histogram2d\":[{\"type\":\"histogram2d\",\"colorbar\":{\"outlinewidth\":0,\"ticks\":\"\"},\"colorscale\":[[0.0,\"#0d0887\"],[0.1111111111111111,\"#46039f\"],[0.2222222222222222,\"#7201a8\"],[0.3333333333333333,\"#9c179e\"],[0.4444444444444444,\"#bd3786\"],[0.5555555555555556,\"#d8576b\"],[0.6666666666666666,\"#ed7953\"],[0.7777777777777778,\"#fb9f3a\"],[0.8888888888888888,\"#fdca26\"],[1.0,\"#f0f921\"]]}],\"heatmap\":[{\"type\":\"heatmap\",\"colorbar\":{\"outlinewidth\":0,\"ticks\":\"\"},\"colorscale\":[[0.0,\"#0d0887\"],[0.1111111111111111,\"#46039f\"],[0.2222222222222222,\"#7201a8\"],[0.3333333333333333,\"#9c179e\"],[0.4444444444444444,\"#bd3786\"],[0.5555555555555556,\"#d8576b\"],[0.6666666666666666,\"#ed7953\"],[0.7777777777777778,\"#fb9f3a\"],[0.8888888888888888,\"#fdca26\"],[1.0,\"#f0f921\"]]}],\"heatmapgl\":[{\"type\":\"heatmapgl\",\"colorbar\":{\"outlinewidth\":0,\"ticks\":\"\"},\"colorscale\":[[0.0,\"#0d0887\"],[0.1111111111111111,\"#46039f\"],[0.2222222222222222,\"#7201a8\"],[0.3333333333333333,\"#9c179e\"],[0.4444444444444444,\"#bd3786\"],[0.5555555555555556,\"#d8576b\"],[0.6666666666666666,\"#ed7953\"],[0.7777777777777778,\"#fb9f3a\"],[0.8888888888888888,\"#fdca26\"],[1.0,\"#f0f921\"]]}],\"contourcarpet\":[{\"type\":\"contourcarpet\",\"colorbar\":{\"outlinewidth\":0,\"ticks\":\"\"}}],\"contour\":[{\"type\":\"contour\",\"colorbar\":{\"outlinewidth\":0,\"ticks\":\"\"},\"colorscale\":[[0.0,\"#0d0887\"],[0.1111111111111111,\"#46039f\"],[0.2222222222222222,\"#7201a8\"],[0.3333333333333333,\"#9c179e\"],[0.4444444444444444,\"#bd3786\"],[0.5555555555555556,\"#d8576b\"],[0.6666666666666666,\"#ed7953\"],[0.7777777777777778,\"#fb9f3a\"],[0.8888888888888888,\"#fdca26\"],[1.0,\"#f0f921\"]]}],\"surface\":[{\"type\":\"surface\",\"colorbar\":{\"outlinewidth\":0,\"ticks\":\"\"},\"colorscale\":[[0.0,\"#0d0887\"],[0.1111111111111111,\"#46039f\"],[0.2222222222222222,\"#7201a8\"],[0.3333333333333333,\"#9c179e\"],[0.4444444444444444,\"#bd3786\"],[0.5555555555555556,\"#d8576b\"],[0.6666666666666666,\"#ed7953\"],[0.7777777777777778,\"#fb9f3a\"],[0.8888888888888888,\"#fdca26\"],[1.0,\"#f0f921\"]]}],\"mesh3d\":[{\"type\":\"mesh3d\",\"colorbar\":{\"outlinewidth\":0,\"ticks\":\"\"}}],\"scatter\":[{\"fillpattern\":{\"fillmode\":\"overlay\",\"size\":10,\"solidity\":0.2},\"type\":\"scatter\"}],\"parcoords\":[{\"type\":\"parcoords\",\"line\":{\"colorbar\":{\"outlinewidth\":0,\"ticks\":\"\"}}}],\"scatterpolargl\":[{\"type\":\"scatterpolargl\",\"marker\":{\"colorbar\":{\"outlinewidth\":0,\"ticks\":\"\"}}}],\"bar\":[{\"error_x\":{\"color\":\"#2a3f5f\"},\"error_y\":{\"color\":\"#2a3f5f\"},\"marker\":{\"line\":{\"color\":\"#E5ECF6\",\"width\":0.5},\"pattern\":{\"fillmode\":\"overlay\",\"size\":10,\"solidity\":0.2}},\"type\":\"bar\"}],\"scattergeo\":[{\"type\":\"scattergeo\",\"marker\":{\"colorbar\":{\"outlinewidth\":0,\"ticks\":\"\"}}}],\"scatterpolar\":[{\"type\":\"scatterpolar\",\"marker\":{\"colorbar\":{\"outlinewidth\":0,\"ticks\":\"\"}}}],\"histogram\":[{\"marker\":{\"pattern\":{\"fillmode\":\"overlay\",\"size\":10,\"solidity\":0.2}},\"type\":\"histogram\"}],\"scattergl\":[{\"type\":\"scattergl\",\"marker\":{\"colorbar\":{\"outlinewidth\":0,\"ticks\":\"\"}}}],\"scatter3d\":[{\"type\":\"scatter3d\",\"line\":{\"colorbar\":{\"outlinewidth\":0,\"ticks\":\"\"}},\"marker\":{\"colorbar\":{\"outlinewidth\":0,\"ticks\":\"\"}}}],\"scattermapbox\":[{\"type\":\"scattermapbox\",\"marker\":{\"colorbar\":{\"outlinewidth\":0,\"ticks\":\"\"}}}],\"scatterternary\":[{\"type\":\"scatterternary\",\"marker\":{\"colorbar\":{\"outlinewidth\":0,\"ticks\":\"\"}}}],\"scattercarpet\":[{\"type\":\"scattercarpet\",\"marker\":{\"colorbar\":{\"outlinewidth\":0,\"ticks\":\"\"}}}],\"carpet\":[{\"aaxis\":{\"endlinecolor\":\"#2a3f5f\",\"gridcolor\":\"white\",\"linecolor\":\"white\",\"minorgridcolor\":\"white\",\"startlinecolor\":\"#2a3f5f\"},\"baxis\":{\"endlinecolor\":\"#2a3f5f\",\"gridcolor\":\"white\",\"linecolor\":\"white\",\"minorgridcolor\":\"white\",\"startlinecolor\":\"#2a3f5f\"},\"type\":\"carpet\"}],\"table\":[{\"cells\":{\"fill\":{\"color\":\"#EBF0F8\"},\"line\":{\"color\":\"white\"}},\"header\":{\"fill\":{\"color\":\"#C8D4E3\"},\"line\":{\"color\":\"white\"}},\"type\":\"table\"}],\"barpolar\":[{\"marker\":{\"line\":{\"color\":\"#E5ECF6\",\"width\":0.5},\"pattern\":{\"fillmode\":\"overlay\",\"size\":10,\"solidity\":0.2}},\"type\":\"barpolar\"}],\"pie\":[{\"automargin\":true,\"type\":\"pie\"}]},\"layout\":{\"autotypenumbers\":\"strict\",\"colorway\":[\"#636efa\",\"#EF553B\",\"#00cc96\",\"#ab63fa\",\"#FFA15A\",\"#19d3f3\",\"#FF6692\",\"#B6E880\",\"#FF97FF\",\"#FECB52\"],\"font\":{\"color\":\"#2a3f5f\"},\"hovermode\":\"closest\",\"hoverlabel\":{\"align\":\"left\"},\"paper_bgcolor\":\"white\",\"plot_bgcolor\":\"#E5ECF6\",\"polar\":{\"bgcolor\":\"#E5ECF6\",\"angularaxis\":{\"gridcolor\":\"white\",\"linecolor\":\"white\",\"ticks\":\"\"},\"radialaxis\":{\"gridcolor\":\"white\",\"linecolor\":\"white\",\"ticks\":\"\"}},\"ternary\":{\"bgcolor\":\"#E5ECF6\",\"aaxis\":{\"gridcolor\":\"white\",\"linecolor\":\"white\",\"ticks\":\"\"},\"baxis\":{\"gridcolor\":\"white\",\"linecolor\":\"white\",\"ticks\":\"\"},\"caxis\":{\"gridcolor\":\"white\",\"linecolor\":\"white\",\"ticks\":\"\"}},\"coloraxis\":{\"colorbar\":{\"outlinewidth\":0,\"ticks\":\"\"}},\"colorscale\":{\"sequential\":[[0.0,\"#0d0887\"],[0.1111111111111111,\"#46039f\"],[0.2222222222222222,\"#7201a8\"],[0.3333333333333333,\"#9c179e\"],[0.4444444444444444,\"#bd3786\"],[0.5555555555555556,\"#d8576b\"],[0.6666666666666666,\"#ed7953\"],[0.7777777777777778,\"#fb9f3a\"],[0.8888888888888888,\"#fdca26\"],[1.0,\"#f0f921\"]],\"sequentialminus\":[[0.0,\"#0d0887\"],[0.1111111111111111,\"#46039f\"],[0.2222222222222222,\"#7201a8\"],[0.3333333333333333,\"#9c179e\"],[0.4444444444444444,\"#bd3786\"],[0.5555555555555556,\"#d8576b\"],[0.6666666666666666,\"#ed7953\"],[0.7777777777777778,\"#fb9f3a\"],[0.8888888888888888,\"#fdca26\"],[1.0,\"#f0f921\"]],\"diverging\":[[0,\"#8e0152\"],[0.1,\"#c51b7d\"],[0.2,\"#de77ae\"],[0.3,\"#f1b6da\"],[0.4,\"#fde0ef\"],[0.5,\"#f7f7f7\"],[0.6,\"#e6f5d0\"],[0.7,\"#b8e186\"],[0.8,\"#7fbc41\"],[0.9,\"#4d9221\"],[1,\"#276419\"]]},\"xaxis\":{\"gridcolor\":\"white\",\"linecolor\":\"white\",\"ticks\":\"\",\"title\":{\"standoff\":15},\"zerolinecolor\":\"white\",\"automargin\":true,\"zerolinewidth\":2},\"yaxis\":{\"gridcolor\":\"white\",\"linecolor\":\"white\",\"ticks\":\"\",\"title\":{\"standoff\":15},\"zerolinecolor\":\"white\",\"automargin\":true,\"zerolinewidth\":2},\"scene\":{\"xaxis\":{\"backgroundcolor\":\"#E5ECF6\",\"gridcolor\":\"white\",\"linecolor\":\"white\",\"showbackground\":true,\"ticks\":\"\",\"zerolinecolor\":\"white\",\"gridwidth\":2},\"yaxis\":{\"backgroundcolor\":\"#E5ECF6\",\"gridcolor\":\"white\",\"linecolor\":\"white\",\"showbackground\":true,\"ticks\":\"\",\"zerolinecolor\":\"white\",\"gridwidth\":2},\"zaxis\":{\"backgroundcolor\":\"#E5ECF6\",\"gridcolor\":\"white\",\"linecolor\":\"white\",\"showbackground\":true,\"ticks\":\"\",\"zerolinecolor\":\"white\",\"gridwidth\":2}},\"shapedefaults\":{\"line\":{\"color\":\"#2a3f5f\"}},\"annotationdefaults\":{\"arrowcolor\":\"#2a3f5f\",\"arrowhead\":0,\"arrowwidth\":1},\"geo\":{\"bgcolor\":\"white\",\"landcolor\":\"#E5ECF6\",\"subunitcolor\":\"white\",\"showland\":true,\"showlakes\":true,\"lakecolor\":\"white\"},\"title\":{\"x\":0.05},\"mapbox\":{\"style\":\"light\"}}},\"xaxis\":{\"anchor\":\"y\",\"domain\":[0.0,1.0],\"title\":{\"text\":\"x\"}},\"yaxis\":{\"anchor\":\"x\",\"domain\":[0.0,1.0],\"title\":{\"text\":\"y\"}},\"legend\":{\"tracegroupgap\":0},\"margin\":{\"t\":60},\"barmode\":\"relative\"},                        {\"responsive\": true}                    ).then(function(){\n",
       "                            \n",
       "var gd = document.getElementById('60943d16-2bdb-4412-b997-e64507008161');\n",
       "var x = new MutationObserver(function (mutations, observer) {{\n",
       "        var display = window.getComputedStyle(gd).display;\n",
       "        if (!display || display === 'none') {{\n",
       "            console.log([gd, 'removed!']);\n",
       "            Plotly.purge(gd);\n",
       "            observer.disconnect();\n",
       "        }}\n",
       "}});\n",
       "\n",
       "// Listen for the removal of the full notebook cells\n",
       "var notebookContainer = gd.closest('#notebook-container');\n",
       "if (notebookContainer) {{\n",
       "    x.observe(notebookContainer, {childList: true});\n",
       "}}\n",
       "\n",
       "// Listen for the clearing of the current output cell\n",
       "var outputEl = gd.closest('.output');\n",
       "if (outputEl) {{\n",
       "    x.observe(outputEl, {childList: true});\n",
       "}}\n",
       "\n",
       "                        })                };                });            </script>        </div>"
      ]
     },
     "metadata": {},
     "output_type": "display_data"
    }
   ],
   "source": [
    "import plotly.express as px\n",
    "fig = px.bar(x=df['name'].to_list(), y=df['contributions'].to_numpy())\n",
    "fig.show()"
   ]
  }
 ],
 "metadata": {
  "kernelspec": {
   "display_name": "Python 3",
   "language": "python",
   "name": "python3"
  },
  "language_info": {
   "codemirror_mode": {
    "name": "ipython",
    "version": 3
   },
   "file_extension": ".py",
   "mimetype": "text/x-python",
   "name": "python",
   "nbconvert_exporter": "python",
   "pygments_lexer": "ipython3",
   "version": "3.10.7"
  },
  "orig_nbformat": 4,
  "vscode": {
   "interpreter": {
    "hash": "e7370f93d1d0cde622a1f8e1c04877d8463912d04d973331ad4851f04de6915a"
   }
  }
 },
 "nbformat": 4,
 "nbformat_minor": 2
}
